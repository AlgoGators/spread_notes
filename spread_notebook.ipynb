{
 "cells": [
  {
   "cell_type": "markdown",
   "metadata": {},
   "source": [
    "# Spread Trading Strategy\n",
    "Implementation of a spread trading strategy using the spread between the prices of two futures. The strategy is based on the assumption that the spread between the two stocks will revert to the mean. The strategy is implemented using the following steps:\n",
    "- Calculate the spread between the two futures: $p_{\\Delta} = R \\times p_a - p_b$\n",
    "- Calculate the mean and standard deviation of the spread: $\\mu_{\\Delta}$ and $\\sigma_{\\Delta}$\n",
    "- Notional Exposure per synthetic contract: $= p_{\\Delta} \\times ($ Futures multiplier $\\times$ FX rate $)$ \n",
    "\n",
    "**Formulas to Utilize:**\n",
    "- $\\sigma_{portfolio} = \\sqrt{\\sum_{i=1}^{n} w_i^2 \\sigma_i^2 + \\sum_{i=1}^{n}\\sum_{j=1}^{n} w_i w_j \\sigma_i \\sigma_j \\rho_{ij}}$\n",
    "- $\\rho_{ab} = \\frac{Cov(a,b)}{\\sigma_a \\sigma_b}$\n",
    "- $\\sigma^{\\Delta}_{p} = \\sqrt{R^{2}\\sigma_a^2 + \\sigma_b^2 - 2 \\sigma_a \\sigma_b \\rho_{ab}}$\n"
   ]
  },
  {
   "cell_type": "code",
   "execution_count": 1,
   "metadata": {},
   "outputs": [],
   "source": [
    "import pandas as pd\n",
    "import numpy as np\n",
    "import matplotlib.pyplot as plt"
   ]
  },
  {
   "cell_type": "code",
   "execution_count": 8,
   "metadata": {},
   "outputs": [
    {
     "data": {
      "text/plain": [
       "(            adjusted  underlying\n",
       " index                           \n",
       " 2022-09-26   3667.25     3667.25\n",
       " 2022-09-27   3665.25     3665.25\n",
       " 2022-09-28   3729.75     3729.75\n",
       " 2022-09-29   3658.75     3658.75\n",
       " 2022-09-30   3641.50     3641.50,\n",
       "               adjusted  underlying\n",
       " index                             \n",
       " 2022-09-26  111.046875  111.046875\n",
       " 2022-09-27  111.031250  111.031250\n",
       " 2022-09-28  112.656250  112.656250\n",
       " 2022-09-29  112.140625  112.140625\n",
       " 2022-09-30  112.484375  112.484375)"
      ]
     },
     "execution_count": 8,
     "metadata": {},
     "output_type": "execute_result"
    }
   ],
   "source": [
    "# Spread of SP500 and US10Y\n",
    "sp500 = pd.read_csv('sp500.csv', index_col=0, parse_dates=True)\n",
    "us10y = pd.read_csv('us10.csv', index_col=0, parse_dates=True)\n",
    "sp500.tail(), us10y.tail()"
   ]
  },
  {
   "cell_type": "code",
   "execution_count": 28,
   "metadata": {},
   "outputs": [
    {
     "data": {
      "text/plain": [
       "index\n",
       "2022-09-26    1446.3125\n",
       "2022-09-27    1444.6250\n",
       "2022-09-28    1476.6250\n",
       "2022-09-29    1415.9375\n",
       "2022-09-30    1391.8125\n",
       "dtype: float64"
      ]
     },
     "execution_count": 28,
     "metadata": {},
     "output_type": "execute_result"
    }
   ],
   "source": [
    "\"\"\"\n",
    "The SP500 will be our long and we will assume that the US10Y is our short\n",
    "Our R-value or Ratio will be 2 to make the math easier\n",
    "Our price of the spread will be the SP500 - 2 * US10Y\n",
    "\"\"\"\n",
    "ratio = 20\n",
    "p_delta = sp500['adjusted'] - ratio * us10y['underlying']\n",
    "p_delta.tail()"
   ]
  },
  {
   "cell_type": "code",
   "execution_count": 29,
   "metadata": {},
   "outputs": [
    {
     "data": {
      "text/plain": [
       "0.7659"
      ]
     },
     "execution_count": 29,
     "metadata": {},
     "output_type": "execute_result"
    }
   ],
   "source": [
    "sp500_array = np.array(sp500['adjusted'])\n",
    "us10_array = np.array(us10y['adjusted'])\n",
    "length = min(len(sp500_array), len(us10_array))\n",
    "sp500_array = sp500_array[-length:]\n",
    "us10_array = us10_array[-length:]\n",
    "rho = np.corrcoef(sp500_array, us10_array)[0,1]\n",
    "round(rho, 4)"
   ]
  },
  {
   "cell_type": "code",
   "execution_count": 32,
   "metadata": {},
   "outputs": [
    {
     "data": {
      "text/plain": [
       "666.560976620281"
      ]
     },
     "execution_count": 32,
     "metadata": {},
     "output_type": "execute_result"
    }
   ],
   "source": [
    "var_sp500 = np.var(sp500_array)\n",
    "var_us10 = np.var(us10_array)\n",
    "std_sp500 = np.std(sp500_array)\n",
    "std_us10 = np.std(us10_array)\n",
    "np.sqrt(var_sp500+ ratio**2 * var_us10 - 2 * ratio * rho * np.sqrt(var_sp500 * var_us10))"
   ]
  }
 ],
 "metadata": {
  "kernelspec": {
   "display_name": "algo",
   "language": "python",
   "name": "python3"
  },
  "language_info": {
   "codemirror_mode": {
    "name": "ipython",
    "version": 3
   },
   "file_extension": ".py",
   "mimetype": "text/x-python",
   "name": "python",
   "nbconvert_exporter": "python",
   "pygments_lexer": "ipython3",
   "version": "3.12.0"
  }
 },
 "nbformat": 4,
 "nbformat_minor": 2
}
