{
 "cells": [
  {
   "cell_type": "markdown",
   "metadata": {},
   "source": [
    "# Spread Trading Strategy\n",
    "Implementation of a spread trading strategy using the spread between the prices of two futures. The strategy is based on the assumption that the spread between the two stocks will revert to the mean. The strategy is implemented using the following steps:\n",
    "- Calculate the spread between the two futures: $p_{\\Delta} = R \\times p_a - p_b$\n",
    "- Calculate the mean and standard deviation of the spread: $\\mu_{\\Delta}$ and $\\sigma_{\\Delta}$\n",
    "- Notional Exposure per synthetic contract: $= p_{\\Delta} \\times ($ Futures multiplier $\\times$ FX rate $)$ "
   ]
  }
 ],
 "metadata": {
  "language_info": {
   "name": "python"
  }
 },
 "nbformat": 4,
 "nbformat_minor": 2
}
