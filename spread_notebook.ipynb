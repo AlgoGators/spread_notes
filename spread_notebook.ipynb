{
 "cells": [
  {
   "cell_type": "markdown",
   "metadata": {},
   "source": [
    "# Spread Trading Strategy\n",
    "Implementation of a spread trading strategy using the spread between the prices of two futures. The strategy is based on the assumption that the spread between the two stocks will revert to the mean. The strategy is implemented using the following steps:\n",
    "- Calculate the spread between the two futures: $p_{\\Delta} = R \\times p_a - p_b$\n",
    "- Calculate the mean and standard deviation of the spread: $\\mu_{\\Delta}$ and $\\sigma_{\\Delta}$\n",
    "- Notional Exposure per synthetic contract: $= p_{\\Delta} \\times ($ Futures multiplier $\\times$ FX rate $)$ \n",
    "\n",
    "**Formulas to Utilize:**\n",
    "- $\\sigma_{portfolio} = \\sqrt{\\sum_{i=1}^{n} w_i^2 \\sigma_i^2 + \\sum_{i=1}^{n}\\sum_{j=1}^{n} w_i w_j \\sigma_i \\sigma_j \\rho_{ij}}$\n",
    "- $\\rho_{ab} = \\frac{Cov(a,b)}{\\sigma_a \\sigma_b}$\n",
    "- $\\sigma^{\\Delta}_{p} = \\sqrt{R^{2}\\sigma_a^2 + \\sigma_b^2 - 2 \\sigma_a \\sigma_b \\rho_{ab}}$\n"
   ]
  },
  {
   "cell_type": "code",
   "execution_count": 2,
   "metadata": {},
   "outputs": [],
   "source": [
    "import pandas as pd\n",
    "import numpy as np\n",
    "import matplotlib.pyplot as plt"
   ]
  },
  {
   "cell_type": "code",
   "execution_count": 3,
   "metadata": {},
   "outputs": [
    {
     "data": {
      "text/plain": [
       "(            adjusted  underlying\n",
       " index                           \n",
       " 2022-09-26   3667.25     3667.25\n",
       " 2022-09-27   3665.25     3665.25\n",
       " 2022-09-28   3729.75     3729.75\n",
       " 2022-09-29   3658.75     3658.75\n",
       " 2022-09-30   3641.50     3641.50,\n",
       "               adjusted  underlying\n",
       " index                             \n",
       " 2022-09-26  111.046875  111.046875\n",
       " 2022-09-27  111.031250  111.031250\n",
       " 2022-09-28  112.656250  112.656250\n",
       " 2022-09-29  112.140625  112.140625\n",
       " 2022-09-30  112.484375  112.484375)"
      ]
     },
     "execution_count": 3,
     "metadata": {},
     "output_type": "execute_result"
    }
   ],
   "source": [
    "# Spread of SP500 and US10Y\n",
    "sp500 = pd.read_csv('sp500.csv', index_col=0, parse_dates=True)\n",
    "us10y = pd.read_csv('us10.csv', index_col=0, parse_dates=True)\n",
    "sp500.tail(), us10y.tail()"
   ]
  },
  {
   "cell_type": "code",
   "execution_count": 4,
   "metadata": {},
   "outputs": [
    {
     "data": {
      "text/plain": [
       "index\n",
       "2022-09-26    1446.3125\n",
       "2022-09-27    1444.6250\n",
       "2022-09-28    1476.6250\n",
       "2022-09-29    1415.9375\n",
       "2022-09-30    1391.8125\n",
       "dtype: float64"
      ]
     },
     "execution_count": 4,
     "metadata": {},
     "output_type": "execute_result"
    }
   ],
   "source": [
    "\"\"\"\n",
    "The SP500 will be our long and we will assume that the US10Y is our short\n",
    "Our R-value or Ratio will be 2 to make the math easier\n",
    "Our price of the spread will be the SP500 - 2 * US10Y\n",
    "\"\"\"\n",
    "ratio = 20\n",
    "p_delta = sp500['adjusted'] - ratio * us10y['underlying']\n",
    "p_delta.tail()"
   ]
  },
  {
   "cell_type": "code",
   "execution_count": 5,
   "metadata": {},
   "outputs": [
    {
     "data": {
      "text/plain": [
       "0.7659"
      ]
     },
     "execution_count": 5,
     "metadata": {},
     "output_type": "execute_result"
    }
   ],
   "source": [
    "sp500_array = np.array(sp500['adjusted'])\n",
    "us10_array = np.array(us10y['adjusted'])\n",
    "length = min(len(sp500_array), len(us10_array))\n",
    "sp500_array = sp500_array[-length:]\n",
    "us10_array = us10_array[-length:]\n",
    "rho = np.corrcoef(sp500_array, us10_array)[0,1]\n",
    "round(rho, 4)"
   ]
  },
  {
   "cell_type": "code",
   "execution_count": 25,
   "metadata": {},
   "outputs": [],
   "source": [
    "var_sp500 = np.var(sp500_array)\n",
    "var_us10 = np.var(us10_array)\n",
    "std_sp500 = np.std(sp500_array)\n",
    "std_us10 = np.std(us10_array)\n",
    "spread_risk = np.sqrt(std_sp500**2+ ratio**2 * std_us10**2 - 2 * ratio * rho * std_sp500 * std_us10)"
   ]
  },
  {
   "cell_type": "markdown",
   "metadata": {},
   "source": [
    "## Usage of the Spread Trading Strategy\n",
    "The spread trading strategy is implemented in the `SpreadTradingStrategy` class. The class takes in the following parameters:\n",
    "- `futures_a`: The first future to trade\n",
    "- `futures_b`: The second future to trade\n",
    "- `fx_rate_a`: The FX rate of the first future\n",
    "- `fx_rate_b`: The FX rate of the second future\n",
    "- `multiplier_a`: The multiplier of the first future\n",
    "- `multiplier_b`: The multiplier of the second future\n",
    "The class has the following methods:\n",
    "- `calculate_spread`: Calculates the spread between the two futures\n",
    "- `calculate_mean`: Calculates the mean of the spread\n",
    "- `calculate_std`: Calculates the standard deviation of the spread\n",
    "- `calculate_notional_exposure`: Calculates the notional exposure of the spread\n",
    "- `calculate_correlation`: Calculates the correlation between the two futures\n"
   ]
  },
  {
   "cell_type": "code",
   "execution_count": 39,
   "metadata": {},
   "outputs": [],
   "source": [
    "class Spread:\n",
    "    def __init__(self, ratio, sp500, us10y):\n",
    "        self.ratio = ratio\n",
    "        self.sp500 = sp500\n",
    "        self.us10y = us10y\n",
    "        self.spread = sp500 - ratio * us10y\n",
    "        self.rho = np.corrcoef(sp500, us10y)[0,1]\n",
    "        self.var_sp500 = np.var(sp500)\n",
    "        self.var_us10 = np.var(us10y)\n",
    "        self.std_sp500 = np.std(sp500)\n",
    "        self.std_us10 = np.std(us10y)\n",
    "        self.spread_risk = np.sqrt(std_sp500**2+ ratio**2 * std_us10**2 - 2 * ratio * rho * std_sp500 * std_us10)\n",
    "    def plot_spread(self):\n",
    "        plt.plot(self.spread)\n",
    "        plt.ylabel('Spread')\n",
    "        plt.show()\n",
    "    def calc_spread(self):\n",
    "        return self.spread\n",
    "    def calc_rho(self):\n",
    "        return self.rho\n",
    "    def calc_risk(self):\n",
    "        return self.spread_risk\n",
    "    def decouple(self):\n",
    "        # Explore how a decoupling of a correlation affects the risk of a spread instrument\n",
    "        movement = np.linspace(0, 1, 100)\n",
    "        risk = []\n",
    "        for i in movement:\n",
    "            risk.append(np.sqrt(std_sp500**2+ ratio**2 * std_us10**2 - 2 * ratio * i * std_sp500 * std_us10))\n",
    "        plt.xlabel('Coefficient of Correlation')\n",
    "        plt.ylabel('Risk')\n",
    "        plt.title('Risk of Spread Instrument with Decoupling of Correlation')\n",
    "        plt.plot(movement, risk)\n",
    "        plt.show()\n"
   ]
  },
  {
   "cell_type": "code",
   "execution_count": 40,
   "metadata": {},
   "outputs": [
    {
     "data": {
      "image/png": "[encoded data removed]",
      "text/plain": [
       "<Figure size 640x480 with 1 Axes>"
      ]
     },
     "metadata": {},
     "output_type": "display_data"
    }
   ],
   "source": [
    "spread = Spread(ratio, sp500_array, us10_array)\n",
    "spread.decouple()"
   ]
  }
 ],
 "metadata": {
  "kernelspec": {
   "display_name": "algo",
   "language": "python",
   "name": "python3"
  },
  "language_info": {
   "codemirror_mode": {
    "name": "ipython",
    "version": 3
   },
   "file_extension": ".py",
   "mimetype": "text/x-python",
   "name": "python",
   "nbconvert_exporter": "python",
   "pygments_lexer": "ipython3",
   "version": "3.12.0"
  }
 },
 "nbformat": 4,
 "nbformat_minor": 2
}
