{
 "cells": [
  {
   "cell_type": "markdown",
   "metadata": {},
   "source": [
    "# Spread Trading Strategy\n",
    "Implementation of a spread trading strategy using the spread between the prices of two futures. The strategy is based on the assumption that the spread between the two stocks will revert to the mean. The strategy is implemented using the following steps:\n",
    "- Calculate the spread between the two futures: $p_{\\Delta} = R \\times p_a - p_b$\n",
    "- Calculate the mean and standard deviation of the spread: $\\mu_{\\Delta}$ and $\\sigma_{\\Delta}$\n",
    "- Notional Exposure per synthetic contract: $= p_{\\Delta} \\times ($ Futures multiplier $\\times$ FX rate $)$ \n",
    "\n",
    "**Formulas to Utilize:**\n",
    "- $\\sigma_{portfolio} = \\sqrt{\\sum_{i=1}^{n} w_i^2 \\sigma_i^2 + \\sum_{i=1}^{n}\\sum_{j=1}^{n} w_i w_j \\sigma_i \\sigma_j \\rho_{ij}}$\n",
    "- $\\rho_{ab} = \\frac{Cov(a,b)}{\\sigma_a \\sigma_b}$\n",
    "- $\\sigma^{\\Delta}_{p} = \\sqrt{R^{2}\\sigma_a^2 + \\sigma_b^2 - 2 \\sigma_a \\sigma_b \\rho_{ab}}$\n"
   ]
  },
  {
   "cell_type": "code",
   "execution_count": 1,
   "metadata": {},
   "outputs": [],
   "source": [
    "import pandas as pd\n",
    "import numpy as np\n",
    "import matplotlib.pyplot as plt\n",
    "from sql_functions import * "
   ]
  },
  {
   "cell_type": "code",
   "execution_count": 6,
   "metadata": {},
   "outputs": [
    {
     "name": "stdout",
     "output_type": "stream",
     "text": [
      "Error: Unable to retrieve table names from database.\n"
     ]
    }
   ],
   "source": [
    "# Spread of instruments\n",
    "list_of_instruments = list_instruments()"
   ]
  }
 ],
 "metadata": {
  "kernelspec": {
   "display_name": "algo",
   "language": "python",
   "name": "python3"
  },
  "language_info": {
   "codemirror_mode": {
    "name": "ipython",
    "version": 3
   },
   "file_extension": ".py",
   "mimetype": "text/x-python",
   "name": "python",
   "nbconvert_exporter": "python",
   "pygments_lexer": "ipython3",
   "version": "3.12.0"
  }
 },
 "nbformat": 4,
 "nbformat_minor": 2
}
